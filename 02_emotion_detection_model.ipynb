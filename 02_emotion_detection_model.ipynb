{
 "cells": [
  {
   "cell_type": "code",
   "execution_count": 1,
   "id": "047baa60-db2d-4fae-9d23-d3d75afdeeea",
   "metadata": {},
   "outputs": [
    {
     "name": "stdout",
     "output_type": "stream",
     "text": [
      "Epoch 1/30\n",
      "2871/2871 [==============================] - 245s 85ms/step - loss: 1.9765 - accuracy: 0.0942 - val_loss: 1.9417 - val_accuracy: 0.1701\n",
      "Epoch 2/30\n",
      "2871/2871 [==============================] - 236s 82ms/step - loss: 1.9465 - accuracy: 0.1350 - val_loss: 1.9484 - val_accuracy: 0.0160\n",
      "Epoch 3/30\n",
      "2871/2871 [==============================] - 201s 70ms/step - loss: 1.9464 - accuracy: 0.0892 - val_loss: 1.9425 - val_accuracy: 0.2567\n",
      "Epoch 4/30\n",
      "2871/2871 [==============================] - 300s 105ms/step - loss: 1.9464 - accuracy: 0.1854 - val_loss: 1.9488 - val_accuracy: 0.1459\n"
     ]
    },
    {
     "data": {
      "text/plain": [
       "<keras.callbacks.History at 0x2806d634610>"
      ]
     },
     "execution_count": 1,
     "metadata": {},
     "output_type": "execute_result"
    }
   ],
   "source": [
    "import cv2\n",
    "import numpy as np\n",
    "import os\n",
    "from sklearn.model_selection import train_test_split\n",
    "from tensorflow.keras.models import Sequential\n",
    "from tensorflow.keras.layers import Conv2D, MaxPooling2D, Flatten, Dense\n",
    "from tensorflow.keras.callbacks import EarlyStopping, ModelCheckpoint, TensorBoard\n",
    "from tensorflow.keras.preprocessing.image import ImageDataGenerator\n",
    "from sklearn.utils.class_weight import compute_class_weight\n",
    "from tensorflow.keras.utils import to_categorical\n",
    "\n",
    "# Constants\n",
    "image_size = (48, 48)  # Resize to 48x48\n",
    "class_names = ['angry', 'disgust', 'fear', 'happy', 'neutral', 'sad', 'surprise']\n",
    "\n",
    "# Load and preprocess data from the dataset folder\n",
    "def load_data_from_folder(dataset_folder):\n",
    "    images = []\n",
    "    labels = []\n",
    "    label_map = {class_name: idx for idx, class_name in enumerate(class_names)}\n",
    "\n",
    "    # Iterate through each folder (each class)\n",
    "    for class_name in os.listdir(dataset_folder):\n",
    "        class_folder = os.path.join(dataset_folder, class_name)\n",
    "        \n",
    "        if os.path.isdir(class_folder):  # Ensure we're dealing with a folder\n",
    "            for filename in os.listdir(class_folder):\n",
    "                file_path = os.path.join(class_folder, filename)\n",
    "                \n",
    "                try:\n",
    "                    img = cv2.imread(file_path, cv2.IMREAD_GRAYSCALE)  # Load image as grayscale\n",
    "                    if img is not None:\n",
    "                        img = cv2.resize(img, image_size)  # Resize image to (48, 48)\n",
    "                        img_flat = img.flatten()  # Flatten image into a vector\n",
    "                        images.append(img_flat)\n",
    "                        labels.append(label_map[class_name])\n",
    "                except Exception as e:\n",
    "                    print(f\"Error loading {file_path}: {e}\")\n",
    "\n",
    "    return np.array(images), np.array(labels)\n",
    "\n",
    "# Load data from the 'dataset/' folder\n",
    "dataset_folder = 'dataset'\n",
    "X, y = load_data_from_folder(dataset_folder)\n",
    "\n",
    "# Split the dataset into training and validation sets (80% train, 20% validation)\n",
    "X_train, X_val, y_train, y_val = train_test_split(X, y, test_size=0.2, random_state=42)\n",
    "\n",
    "# Reshape the data for the model and normalize\n",
    "X_train = X_train.reshape((-1, 48, 48, 1)) / 255.0\n",
    "X_val = X_val.reshape((-1, 48, 48, 1)) / 255.0\n",
    "\n",
    "# One-hot encode the labels\n",
    "y_train = to_categorical(y_train, len(class_names))\n",
    "y_val = to_categorical(y_val, len(class_names))\n",
    "\n",
    "# Balance classes\n",
    "class_weights = compute_class_weight(\n",
    "    'balanced',\n",
    "    classes=np.unique(np.argmax(y_train, axis=1)),\n",
    "    y=np.argmax(y_train, axis=1)\n",
    ")\n",
    "class_weights = dict(enumerate(class_weights))\n",
    "\n",
    "# Define the model architecture\n",
    "model = Sequential([\n",
    "    Conv2D(64, (3, 3), activation='relu', kernel_regularizer='l2', input_shape=(48, 48, 1)),\n",
    "    MaxPooling2D(pool_size=(2, 2)),\n",
    "    Conv2D(128, (3, 3), activation='relu', kernel_regularizer='l2'),\n",
    "    MaxPooling2D(pool_size=(2, 2)),\n",
    "    Flatten(),\n",
    "    Dense(128, activation='relu', kernel_regularizer='l2'),\n",
    "    Dense(len(class_names), activation='softmax')\n",
    "])\n",
    "\n",
    "# Compile the model\n",
    "model.compile(optimizer='adam', loss='categorical_crossentropy', metrics=['accuracy'])\n",
    "\n",
    "# Callbacks for early stopping, model checkpoint, and TensorBoard\n",
    "early_stopping = EarlyStopping(monitor='val_loss', patience=3, restore_best_weights=True)\n",
    "checkpoint = ModelCheckpoint('best_model.h5', save_best_only=True, monitor='val_accuracy')\n",
    "tensorboard = TensorBoard(log_dir='logs', histogram_freq=1)\n",
    "\n",
    "# Fit the model with data augmentation and class weights\n",
    "datagen = ImageDataGenerator(rotation_range=20, width_shift_range=0.2, height_shift_range=0.2, horizontal_flip=True)\n",
    "model.fit(datagen.flow(X_train, y_train, batch_size=8),\n",
    "          epochs=30,\n",
    "          validation_data=(X_val, y_val),\n",
    "          class_weight=class_weights,\n",
    "          callbacks=[early_stopping, checkpoint, tensorboard])"
   ]
  },
  {
   "cell_type": "code",
   "execution_count": null,
   "id": "44d26a0c-02ab-4008-882f-0b2da3538faa",
   "metadata": {},
   "outputs": [],
   "source": []
  }
 ],
 "metadata": {
  "kernelspec": {
   "display_name": "Python 3 (ipykernel)",
   "language": "python",
   "name": "python3"
  },
  "language_info": {
   "codemirror_mode": {
    "name": "ipython",
    "version": 3
   },
   "file_extension": ".py",
   "mimetype": "text/x-python",
   "name": "python",
   "nbconvert_exporter": "python",
   "pygments_lexer": "ipython3",
   "version": "3.11.7"
  }
 },
 "nbformat": 4,
 "nbformat_minor": 5
}
