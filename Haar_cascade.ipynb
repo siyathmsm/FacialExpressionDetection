{
 "cells": [
  {
   "cell_type": "code",
   "execution_count": 1,
   "id": "62600e1e-8449-4fa9-87ca-e7116b1c7d4a",
   "metadata": {},
   "outputs": [
    {
     "name": "stdout",
     "output_type": "stream",
     "text": [
      "Faces Detected: [(79, 69, 141, 141)]\n"
     ]
    }
   ],
   "source": [
    "import cv2\n",
    "import numpy as np\n",
    "\n",
    "# Load the face detection model (Haar Cascade)\n",
    "face_cascade = cv2.CascadeClassifier(cv2.data.haarcascades + 'haarcascade_frontalface_default.xml')\n",
    "\n",
    "# Process an image to detect faces\n",
    "def process_image(image_path):\n",
    "    img = cv2.imread(image_path, cv2.IMREAD_COLOR)\n",
    "    gray_img = cv2.cvtColor(img, cv2.COLOR_BGR2GRAY)\n",
    "    faces = face_cascade.detectMultiScale(gray_img, scaleFactor=1.1, minNeighbors=5)\n",
    "\n",
    "    if len(faces) == 0:\n",
    "        return None, img\n",
    "\n",
    "    results = []\n",
    "    for (x, y, w, h) in faces:\n",
    "        # Draw a rectangle around the face\n",
    "        cv2.rectangle(img, (x, y), (x + w, y + h), (0, 255, 0), 2)  # Green rectangle\n",
    "\n",
    "        # Crop and process the face region\n",
    "        face_img = gray_img[y:y + h, x:x + w]\n",
    "        face_img = cv2.resize(face_img, (48, 48))\n",
    "        face_img = face_img.reshape((1, 48, 48, 1)) / 255.0\n",
    "        results.append((x, y, w, h))\n",
    "\n",
    "    return results, img\n",
    "\n",
    "# Example usage\n",
    "expression_data, processed_img = process_image('C:/Users/SIYATH MSM/OneDrive/Desktop/Code Warriors/images/5.jpg')\n",
    "\n",
    "if expression_data is None:\n",
    "    print(\"No face detected\")\n",
    "else:\n",
    "    print(\"Faces Detected:\", expression_data)\n",
    "    # Show the processed image with rectangles around detected faces\n",
    "    cv2.imshow(\"Processed Image\", processed_img)\n",
    "    cv2.waitKey(0)\n",
    "    cv2.destroyAllWindows()"
   ]
  }
 ],
 "metadata": {
  "kernelspec": {
   "display_name": "Python 3 (ipykernel)",
   "language": "python",
   "name": "python3"
  },
  "language_info": {
   "codemirror_mode": {
    "name": "ipython",
    "version": 3
   },
   "file_extension": ".py",
   "mimetype": "text/x-python",
   "name": "python",
   "nbconvert_exporter": "python",
   "pygments_lexer": "ipython3",
   "version": "3.9.18"
  }
 },
 "nbformat": 4,
 "nbformat_minor": 5
}
